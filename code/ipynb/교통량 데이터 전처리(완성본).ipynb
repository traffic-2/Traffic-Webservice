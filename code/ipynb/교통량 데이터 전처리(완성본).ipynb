{
 "cells": [
  {
   "cell_type": "markdown",
   "id": "4a3d1610",
   "metadata": {},
   "source": [
    "## null값 처리 & 일자 칼럼 -> 년도, 월, 일로 분리"
   ]
  },
  {
   "cell_type": "code",
   "execution_count": 1,
   "id": "e0eadf22",
   "metadata": {},
   "outputs": [],
   "source": [
    "import pandas as pd\n",
    "import numpy as np"
   ]
  },
  {
   "cell_type": "code",
   "execution_count": 2,
   "id": "12577640",
   "metadata": {},
   "outputs": [
    {
     "name": "stderr",
     "output_type": "stream",
     "text": [
      "C:\\Users\\ynsseon\\AppData\\Local\\Temp/ipykernel_11712/2542567629.py:21: SettingWithCopyWarning: \n",
      "A value is trying to be set on a copy of a slice from a DataFrame\n",
      "\n",
      "See the caveats in the documentation: https://pandas.pydata.org/pandas-docs/stable/user_guide/indexing.html#returning-a-view-versus-a-copy\n",
      "  traffic_after['년도'][idx] = traffic_after['일자'][idx][:4]\n",
      "C:\\Users\\ynsseon\\AppData\\Local\\Temp/ipykernel_11712/2542567629.py:22: SettingWithCopyWarning: \n",
      "A value is trying to be set on a copy of a slice from a DataFrame\n",
      "\n",
      "See the caveats in the documentation: https://pandas.pydata.org/pandas-docs/stable/user_guide/indexing.html#returning-a-view-versus-a-copy\n",
      "  traffic_after['월'][idx] = traffic_after['일자'][idx][4:6]\n",
      "C:\\Users\\ynsseon\\AppData\\Local\\Temp/ipykernel_11712/2542567629.py:23: SettingWithCopyWarning: \n",
      "A value is trying to be set on a copy of a slice from a DataFrame\n",
      "\n",
      "See the caveats in the documentation: https://pandas.pydata.org/pandas-docs/stable/user_guide/indexing.html#returning-a-view-versus-a-copy\n",
      "  traffic_after['일'][idx] = traffic_after['일자'][idx][6:]\n",
      "C:\\Users\\ynsseon\\AppData\\Local\\Temp/ipykernel_11712/2542567629.py:7: FutureWarning: Dropping of nuisance columns in DataFrame reductions (with 'numeric_only=None') is deprecated; in a future version this will raise TypeError.  Select only valid columns before calling the reduction.\n",
      "  traffic_b = traffic_b.fillna(round(traffic_b.mean()))\n"
     ]
    }
   ],
   "source": [
    "for i in range(1, 13):\n",
    "    traffic = pd.read_excel('./교통량/2017/2017_%d월 서울시 교통량 조사자료.xlsx' % i)\n",
    "    traffic_a = traffic.iloc[:,:6]\n",
    "    traffic_b = traffic.iloc[:,6:]\n",
    "    \n",
    "    # 1. null값 처리 => 시간대별 교통량 합계의 평균값으로 채움\n",
    "    traffic_b = traffic_b.fillna(round(traffic_b.mean()))\n",
    "    traffic_after = pd.concat([traffic_a, traffic_b], axis=1)\n",
    "    \n",
    "    # 2. 일자 칼럼 -> 년도, 월, 일로 분리\n",
    "    # 교통량 데이터프레임의 '일자' 컬럼의 타입 변경 => slicing을 위해\n",
    "    traffic_after = traffic_after.astype({'일자':'str'})\n",
    "    \n",
    "    # 교통량 데이터프레임에 '년도', '월', '일' 컬럼 추가\n",
    "    traffic_after['년도']=''\n",
    "    traffic_after['월']=''\n",
    "    traffic_after['일']=''\n",
    "    \n",
    "    # '일자' 컬럼을 '년도', '월', '일' 로 분리\n",
    "    for idx, val in traffic_after.iterrows():\n",
    "        traffic_after['년도'][idx] = traffic_after['일자'][idx][:4]\n",
    "        traffic_after['월'][idx] = traffic_after['일자'][idx][4:6]\n",
    "        traffic_after['일'][idx] = traffic_after['일자'][idx][6:]\n",
    "        \n",
    "    # 컬럼 데이터 타입 변경 => intf64\n",
    "    traffic_after = traffic_after.astype({'년도':'int64'})\n",
    "    traffic_after = traffic_after.astype({'월':'int64'})\n",
    "    traffic_after = traffic_after.astype({'일':'int64'})\n",
    "    \n",
    "    traffic_after.to_csv('./교통량/2017/2017_%d월.csv' % i, encoding='utf-8-sig')"
   ]
  },
  {
   "cell_type": "code",
   "execution_count": null,
   "id": "91f8db96",
   "metadata": {},
   "outputs": [],
   "source": []
  },
  {
   "cell_type": "code",
   "execution_count": null,
   "id": "b1ef93a4",
   "metadata": {},
   "outputs": [],
   "source": []
  },
  {
   "cell_type": "code",
   "execution_count": 3,
   "id": "ebbc7b3c",
   "metadata": {},
   "outputs": [
    {
     "name": "stderr",
     "output_type": "stream",
     "text": [
      "C:\\Users\\ynsseon\\AppData\\Local\\Temp/ipykernel_11712/3056908399.py:21: SettingWithCopyWarning: \n",
      "A value is trying to be set on a copy of a slice from a DataFrame\n",
      "\n",
      "See the caveats in the documentation: https://pandas.pydata.org/pandas-docs/stable/user_guide/indexing.html#returning-a-view-versus-a-copy\n",
      "  traffic_after['년도'][idx] = traffic_after['일자'][idx][:4]\n",
      "C:\\Users\\ynsseon\\AppData\\Local\\Temp/ipykernel_11712/3056908399.py:22: SettingWithCopyWarning: \n",
      "A value is trying to be set on a copy of a slice from a DataFrame\n",
      "\n",
      "See the caveats in the documentation: https://pandas.pydata.org/pandas-docs/stable/user_guide/indexing.html#returning-a-view-versus-a-copy\n",
      "  traffic_after['월'][idx] = traffic_after['일자'][idx][4:6]\n",
      "C:\\Users\\ynsseon\\AppData\\Local\\Temp/ipykernel_11712/3056908399.py:23: SettingWithCopyWarning: \n",
      "A value is trying to be set on a copy of a slice from a DataFrame\n",
      "\n",
      "See the caveats in the documentation: https://pandas.pydata.org/pandas-docs/stable/user_guide/indexing.html#returning-a-view-versus-a-copy\n",
      "  traffic_after['일'][idx] = traffic_after['일자'][idx][6:]\n"
     ]
    }
   ],
   "source": [
    "for i in range(1, 13):\n",
    "    traffic = pd.read_excel('./교통량/2018/2018_%d월 서울시 교통량 조사자료.xlsx' % i)\n",
    "    traffic_a = traffic.iloc[:,:6]\n",
    "    traffic_b = traffic.iloc[:,6:]\n",
    "    \n",
    "    # 1. null값 처리 => 시간대별 교통량 합계의 평균값으로 채움\n",
    "    traffic_b = traffic_b.fillna(round(traffic_b.mean()))\n",
    "    traffic_after = pd.concat([traffic_a, traffic_b], axis=1)\n",
    "    \n",
    "    # 2. 일자 칼럼 -> 년도, 월, 일로 분리\n",
    "    # 교통량 데이터프레임의 '일자' 컬럼의 타입 변경 => slicing을 위해\n",
    "    traffic_after = traffic_after.astype({'일자':'str'})\n",
    "    \n",
    "    # 교통량 데이터프레임에 '년도', '월', '일' 컬럼 추가\n",
    "    traffic_after['년도']=''\n",
    "    traffic_after['월']=''\n",
    "    traffic_after['일']=''\n",
    "    \n",
    "    # '일자' 컬럼을 '년도', '월', '일' 로 분리\n",
    "    for idx, val in traffic_after.iterrows():\n",
    "        traffic_after['년도'][idx] = traffic_after['일자'][idx][:4]\n",
    "        traffic_after['월'][idx] = traffic_after['일자'][idx][4:6]\n",
    "        traffic_after['일'][idx] = traffic_after['일자'][idx][6:]\n",
    "        \n",
    "    # 컬럼 데이터 타입 변경 => intf64\n",
    "    traffic_after = traffic_after.astype({'년도':'int64'})\n",
    "    traffic_after = traffic_after.astype({'월':'int64'})\n",
    "    traffic_after = traffic_after.astype({'일':'int64'})\n",
    "    \n",
    "    traffic_after.to_csv('./교통량/2018/2018_%d월.csv' % i, encoding='utf-8-sig')"
   ]
  },
  {
   "cell_type": "code",
   "execution_count": null,
   "id": "a422d695",
   "metadata": {},
   "outputs": [],
   "source": []
  },
  {
   "cell_type": "code",
   "execution_count": null,
   "id": "f45b0653",
   "metadata": {},
   "outputs": [],
   "source": []
  },
  {
   "cell_type": "code",
   "execution_count": 4,
   "id": "41caec99",
   "metadata": {},
   "outputs": [
    {
     "name": "stderr",
     "output_type": "stream",
     "text": [
      "C:\\Users\\ynsseon\\AppData\\Local\\Temp/ipykernel_11712/2524941470.py:7: FutureWarning: Dropping of nuisance columns in DataFrame reductions (with 'numeric_only=None') is deprecated; in a future version this will raise TypeError.  Select only valid columns before calling the reduction.\n",
      "  traffic_b = traffic_b.fillna(round(traffic_b.mean()))\n",
      "C:\\Users\\ynsseon\\AppData\\Local\\Temp/ipykernel_11712/2524941470.py:21: SettingWithCopyWarning: \n",
      "A value is trying to be set on a copy of a slice from a DataFrame\n",
      "\n",
      "See the caveats in the documentation: https://pandas.pydata.org/pandas-docs/stable/user_guide/indexing.html#returning-a-view-versus-a-copy\n",
      "  traffic_after['년도'][idx] = traffic_after['일자'][idx][:4]\n",
      "C:\\Users\\ynsseon\\AppData\\Local\\Temp/ipykernel_11712/2524941470.py:22: SettingWithCopyWarning: \n",
      "A value is trying to be set on a copy of a slice from a DataFrame\n",
      "\n",
      "See the caveats in the documentation: https://pandas.pydata.org/pandas-docs/stable/user_guide/indexing.html#returning-a-view-versus-a-copy\n",
      "  traffic_after['월'][idx] = traffic_after['일자'][idx][4:6]\n",
      "C:\\Users\\ynsseon\\AppData\\Local\\Temp/ipykernel_11712/2524941470.py:23: SettingWithCopyWarning: \n",
      "A value is trying to be set on a copy of a slice from a DataFrame\n",
      "\n",
      "See the caveats in the documentation: https://pandas.pydata.org/pandas-docs/stable/user_guide/indexing.html#returning-a-view-versus-a-copy\n",
      "  traffic_after['일'][idx] = traffic_after['일자'][idx][6:]\n"
     ]
    }
   ],
   "source": [
    "for i in range(1, 13):\n",
    "    traffic = pd.read_excel('./교통량/2019/2019_%d월 서울시 교통량 조사자료.xlsx' % i)\n",
    "    traffic_a = traffic.iloc[:,:6]\n",
    "    traffic_b = traffic.iloc[:,6:]\n",
    "    \n",
    "    # 1. null값 처리 => 시간대별 교통량 합계의 평균값으로 채움\n",
    "    traffic_b = traffic_b.fillna(round(traffic_b.mean()))\n",
    "    traffic_after = pd.concat([traffic_a, traffic_b], axis=1)\n",
    "    \n",
    "    # 2. 일자 칼럼 -> 년도, 월, 일로 분리\n",
    "    # 교통량 데이터프레임의 '일자' 컬럼의 타입 변경 => slicing을 위해\n",
    "    traffic_after = traffic_after.astype({'일자':'str'})\n",
    "    \n",
    "    # 교통량 데이터프레임에 '년도', '월', '일' 컬럼 추가\n",
    "    traffic_after['년도']=''\n",
    "    traffic_after['월']=''\n",
    "    traffic_after['일']=''\n",
    "    \n",
    "    # '일자' 컬럼을 '년도', '월', '일' 로 분리\n",
    "    for idx, val in traffic_after.iterrows():\n",
    "        traffic_after['년도'][idx] = traffic_after['일자'][idx][:4]\n",
    "        traffic_after['월'][idx] = traffic_after['일자'][idx][4:6]\n",
    "        traffic_after['일'][idx] = traffic_after['일자'][idx][6:]\n",
    "        \n",
    "    # 컬럼 데이터 타입 변경 => intf64\n",
    "    traffic_after = traffic_after.astype({'년도':'int64'})\n",
    "    traffic_after = traffic_after.astype({'월':'int64'})\n",
    "    traffic_after = traffic_after.astype({'일':'int64'})\n",
    "    \n",
    "    traffic_after.to_csv('./교통량/2019/2019_%d월.csv' % i, encoding='utf-8-sig')"
   ]
  },
  {
   "cell_type": "code",
   "execution_count": null,
   "id": "63a15169",
   "metadata": {},
   "outputs": [],
   "source": []
  },
  {
   "cell_type": "code",
   "execution_count": 5,
   "id": "b65c90be",
   "metadata": {},
   "outputs": [],
   "source": [
    "# 테스트"
   ]
  },
  {
   "cell_type": "code",
   "execution_count": 6,
   "id": "8c80a15b",
   "metadata": {},
   "outputs": [],
   "source": [
    "# traffic = pd.read_excel('./교통량/2017/2017_1월 서울시 교통량 조사자료.xlsx')\n",
    "# traffic.sample(10)"
   ]
  },
  {
   "cell_type": "code",
   "execution_count": null,
   "id": "d85f09cb",
   "metadata": {},
   "outputs": [],
   "source": [
    "# traffic_a = traffic.iloc[:,:6]\n",
    "# traffic_a"
   ]
  },
  {
   "cell_type": "code",
   "execution_count": null,
   "id": "44e686dc",
   "metadata": {},
   "outputs": [],
   "source": [
    "# traffic_b = traffic.iloc[:,6:]\n",
    "# traffic_b"
   ]
  },
  {
   "cell_type": "code",
   "execution_count": null,
   "id": "a0add1c9",
   "metadata": {},
   "outputs": [],
   "source": [
    "# traffic_b = traffic_b.fillna(round(traffic_b.mean()))\n",
    "# traffic_b"
   ]
  },
  {
   "cell_type": "code",
   "execution_count": null,
   "id": "792ef5b1",
   "metadata": {},
   "outputs": [],
   "source": [
    "# traffic_after = pd.concat([traffic_a, traffic_b], axis=1)"
   ]
  },
  {
   "cell_type": "code",
   "execution_count": null,
   "id": "b235569b",
   "metadata": {},
   "outputs": [],
   "source": [
    "# traffic_after.to_csv('./교통량/2017/2017_1월.csv', encoding='utf-8-sig')"
   ]
  }
 ],
 "metadata": {
  "kernelspec": {
   "display_name": "Python 3 (ipykernel)",
   "language": "python",
   "name": "python3"
  },
  "language_info": {
   "codemirror_mode": {
    "name": "ipython",
    "version": 3
   },
   "file_extension": ".py",
   "mimetype": "text/x-python",
   "name": "python",
   "nbconvert_exporter": "python",
   "pygments_lexer": "ipython3",
   "version": "3.8.8"
  }
 },
 "nbformat": 4,
 "nbformat_minor": 5
}
