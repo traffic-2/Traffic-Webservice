{
 "cells": [
  {
   "cell_type": "code",
   "execution_count": 1,
   "id": "2fb0dd59",
   "metadata": {},
   "outputs": [],
   "source": [
    "import os\n",
    "import glob\n",
    "import json\n",
    "from pyspark import SparkContext\n",
    "from pyspark.sql import SparkSession, SQLContext\n",
    "from pyspark.sql.functions import *\n",
    "from pyspark.conf import SparkConf\n",
    "\n",
    "conf = SparkConf()\\\n",
    "        .setAppName('spark-sql')\\\n",
    "        .set('spark.driver.extraClassPath', '/home/lab16/Final_PJT/data/mysql-connector-java-8.0.26.jar')\n",
    "\n",
    "sc = SparkContext(conf=conf)\n",
    "sqlContext = SQLContext(sc)\n",
    "spark = sqlContext.sparkSession"
   ]
  },
  {
   "cell_type": "code",
   "execution_count": 2,
   "id": "4b8456e9",
   "metadata": {},
   "outputs": [
    {
     "data": {
      "text/plain": [
       "['20211007000502traffic_A-17.json',\n",
       " '20211007000505traffic_A-08.json',\n",
       " '20211007000503traffic_A-15.json',\n",
       " '20211007000502traffic_A-05.json',\n",
       " '20211007000503traffic_A-07.json']"
      ]
     },
     "execution_count": 2,
     "metadata": {},
     "output_type": "execute_result"
    }
   ],
   "source": [
    "# 실시간 교통량 json 데이터 받아오기\n",
    "path = '/home/lab16/traffic'\n",
    "file_ = os.listdir(path)\n",
    "file_json = [file for file in file_ if file.endswith('.json')]\n",
    "\n",
    "file_json"
   ]
  },
  {
   "cell_type": "code",
   "execution_count": 3,
   "id": "c9fc614c",
   "metadata": {
    "scrolled": true
   },
   "outputs": [
    {
     "ename": "KeyError",
     "evalue": "'row'",
     "output_type": "error",
     "traceback": [
      "\u001b[0;31m---------------------------------------------------------------------------\u001b[0m",
      "\u001b[0;31mKeyError\u001b[0m                                  Traceback (most recent call last)",
      "\u001b[0;32m<ipython-input-3-2455c96fca20>\u001b[0m in \u001b[0;36m<module>\u001b[0;34m()\u001b[0m\n\u001b[1;32m      5\u001b[0m     \u001b[0;32mwith\u001b[0m \u001b[0mopen\u001b[0m\u001b[0;34m(\u001b[0m\u001b[0;34m'/home/lab16/traffic/%s'\u001b[0m \u001b[0;34m%\u001b[0m \u001b[0;34m(\u001b[0m\u001b[0mfile_json\u001b[0m\u001b[0;34m[\u001b[0m\u001b[0mi\u001b[0m\u001b[0;34m]\u001b[0m\u001b[0;34m)\u001b[0m\u001b[0;34m,\u001b[0m \u001b[0;34m'r'\u001b[0m\u001b[0;34m)\u001b[0m \u001b[0;32mas\u001b[0m \u001b[0mf\u001b[0m\u001b[0;34m:\u001b[0m\u001b[0;34m\u001b[0m\u001b[0;34m\u001b[0m\u001b[0m\n\u001b[1;32m      6\u001b[0m         \u001b[0mj\u001b[0m \u001b[0;34m=\u001b[0m \u001b[0mjson\u001b[0m\u001b[0;34m.\u001b[0m\u001b[0mload\u001b[0m\u001b[0;34m(\u001b[0m\u001b[0mf\u001b[0m\u001b[0;34m)\u001b[0m\u001b[0;34m\u001b[0m\u001b[0;34m\u001b[0m\u001b[0m\n\u001b[0;32m----> 7\u001b[0;31m         \u001b[0mj_list\u001b[0m \u001b[0;34m=\u001b[0m \u001b[0mj\u001b[0m\u001b[0;34m[\u001b[0m\u001b[0;34m'VolInfo'\u001b[0m\u001b[0;34m]\u001b[0m\u001b[0;34m[\u001b[0m\u001b[0;34m'row'\u001b[0m\u001b[0;34m]\u001b[0m\u001b[0;34m\u001b[0m\u001b[0;34m\u001b[0m\u001b[0m\n\u001b[0m\u001b[1;32m      8\u001b[0m \u001b[0;34m\u001b[0m\u001b[0m\n\u001b[1;32m      9\u001b[0m     \u001b[0;31m# 하나의 지점 - 하나의 교통량 형태로 만들기\u001b[0m\u001b[0;34m\u001b[0m\u001b[0;34m\u001b[0m\u001b[0;34m\u001b[0m\u001b[0m\n",
      "\u001b[0;31mKeyError\u001b[0m: 'row'"
     ]
    }
   ],
   "source": [
    "processing_list = []\n",
    "\n",
    "# json 데이터 처리\n",
    "for i in range(len(file_json)):\n",
    "    with open('/home/lab16/traffic/%s' % (file_json[i]), 'r') as f:\n",
    "        j = json.load(f)\n",
    "        j_list = j['VolInfo']['row']\n",
    "\n",
    "    # 하나의 지점 - 하나의 교통량 형태로 만들기\n",
    "    sum = 0\n",
    "    for i in range(len(j_list)):\n",
    "        sum += int(j_list[i]['vol'])\n",
    "        #print(j_list[i])\n",
    "    sum //= 2\n",
    "\n",
    "    d = dict()\n",
    "    d['spot_num'] = j_list[0]['spot_num']\n",
    "    d['ymd'] = j_list[0]['ymd']\n",
    "    d['hh'] = j_list[0]['hh']\n",
    "    d['vol'] = sum\n",
    "    \n",
    "    if j_list[0]['spot_num'] == 'A-08':\n",
    "        d['spot_name'] = '종로(동묘앞역)'\n",
    "    elif j_list[0]['spot_num'] == 'A-07':\n",
    "        d['spot_name'] = '대학로(한국방송통신대학교)'\n",
    "    elif j_list[0]['spot_num'] == 'A-15':\n",
    "        d['spot_name'] = '종로(종로3가역)'\n",
    "    elif j_list[0]['spot_num'] == 'A-17':\n",
    "        d['spot_name'] = '세종대로(시청역2)'\n",
    "    else:\n",
    "        d['spot_name'] = '율곡로(안국역)'\n",
    "        \n",
    "    processing_list.append(d)\n",
    "    \n",
    "processing_list"
   ]
  },
  {
   "cell_type": "code",
   "execution_count": 4,
   "id": "1b177def",
   "metadata": {},
   "outputs": [
    {
     "name": "stdout",
     "output_type": "stream",
     "text": [
      "+--------+---+--------+----+\n",
      "|     ymd| hh|spot_num| vol|\n",
      "+--------+---+--------+----+\n",
      "|20210928| 11|    A-08|1323|\n",
      "|20210928| 11|    A-07| 903|\n",
      "|20210928| 11|    A-15|1174|\n",
      "|20210928| 11|    A-17|1911|\n",
      "|20210928| 11|    A-05|1536|\n",
      "+--------+---+--------+----+\n",
      "\n"
     ]
    }
   ],
   "source": [
    "# processing_list를 spark dataframe으로 변환\n",
    "j_sdf = spark.createDataFrame(processing_list)\n",
    "j_sdf = j_sdf.select(j_sdf.ymd, j_sdf.hh, j_sdf.spot_num, j_sdf.vol, j_sdf.spot_name)\n",
    "\n",
    "j_sdf.createOrReplaceTempView('j_sdf')\n",
    "j_sdf.show()"
   ]
  },
  {
   "cell_type": "code",
   "execution_count": 5,
   "id": "774d1b22",
   "metadata": {},
   "outputs": [
    {
     "name": "stdout",
     "output_type": "stream",
     "text": [
      "+--------+--------+--------+----+\n",
      "|baseDate|baseTime|spot_num| vol|\n",
      "+--------+--------+--------+----+\n",
      "|20210928|      11|    A-17|1911|\n",
      "|20210928|      11|    A-05|1536|\n",
      "|20210928|      11|    A-07| 903|\n",
      "|20210928|      11|    A-08|1323|\n",
      "|20210928|      11|    A-15|1174|\n",
      "+--------+--------+--------+----+\n",
      "\n"
     ]
    }
   ],
   "source": [
    "# MySQL로부터 테이블 호출\n",
    "realtime_traffic = spark.read.format('jdbc')\\\n",
    "        .option('driver', 'com.mysql.jdbc.Driver')\\\n",
    "        .option('url', 'jdbc:mysql://{}:3306/{}'.format('3.37.159.174', 'finalPJT'))\\\n",
    "        .option('user', 'mulcam')\\\n",
    "        .option('password', 'mulcam')\\\n",
    "        .option('dbtable', 'realtime_traffic')\\\n",
    "        .load()\n",
    "\n",
    "# spark에서 SQL 쿼리를 위해 테이블 선언\n",
    "realtime_traffic.createOrReplaceTempView('realtime_traffic')\n",
    "realtime_traffic.show()"
   ]
  },
  {
   "cell_type": "code",
   "execution_count": 6,
   "id": "7a721342",
   "metadata": {},
   "outputs": [
    {
     "data": {
      "text/plain": [
       "DataFrame[]"
      ]
     },
     "execution_count": 6,
     "metadata": {},
     "output_type": "execute_result"
    }
   ],
   "source": [
    "# 데이터 삽입\n",
    "spark.sql(\"INSERT INTO realtime_traffic SELECT * FROM j_sdf\")"
   ]
  },
  {
   "cell_type": "code",
   "execution_count": 7,
   "id": "fd42cdc6",
   "metadata": {},
   "outputs": [
    {
     "name": "stdout",
     "output_type": "stream",
     "text": [
      "+--------+--------+--------+----+\n",
      "|baseDate|baseTime|spot_num| vol|\n",
      "+--------+--------+--------+----+\n",
      "|20210928|      11|    A-17|1911|\n",
      "|20210928|      11|    A-05|1536|\n",
      "|20210928|      11|    A-07| 903|\n",
      "|20210928|      11|    A-08|1323|\n",
      "|20210928|      11|    A-15|1174|\n",
      "|20210928|      11|    A-17|1911|\n",
      "|20210928|      11|    A-05|1536|\n",
      "|20210928|      11|    A-15|1174|\n",
      "|20210928|      11|    A-07| 903|\n",
      "|20210928|      11|    A-08|1323|\n",
      "+--------+--------+--------+----+\n",
      "\n"
     ]
    }
   ],
   "source": [
    "realtime_traffic.show()"
   ]
  },
  {
   "cell_type": "code",
   "execution_count": 8,
   "id": "8169e53f",
   "metadata": {},
   "outputs": [
    {
     "data": {
      "text/plain": [
       "[None, None, None, None, None]"
      ]
     },
     "execution_count": 8,
     "metadata": {},
     "output_type": "execute_result"
    }
   ],
   "source": [
    "# 폴더 내의 날씨 json 파일 삭제\n",
    "[os.remove(f) for f in glob.glob(\"/home/lab16/traffic/*.json\")]"
   ]
  },
  {
   "cell_type": "code",
   "execution_count": null,
   "id": "4f4e6ea5",
   "metadata": {},
   "outputs": [],
   "source": []
  },
  {
   "cell_type": "code",
   "execution_count": null,
   "id": "67f022a9",
   "metadata": {},
   "outputs": [],
   "source": []
  },
  {
   "cell_type": "markdown",
   "id": "fa11f996",
   "metadata": {},
   "source": [
    "### .py 파일로 만들기"
   ]
  },
  {
   "cell_type": "code",
   "execution_count": 1,
   "id": "47fd975e",
   "metadata": {},
   "outputs": [],
   "source": [
    "import os\n",
    "import glob\n",
    "import json\n",
    "from pyspark import SparkContext\n",
    "from pyspark.sql import SparkSession, SQLContext\n",
    "from pyspark.sql.functions import *\n",
    "from pyspark.conf import SparkConf\n",
    "\n",
    "conf = SparkConf()\\\n",
    "        .setAppName('spark-sql')\\\n",
    "        .set('spark.driver.extraClassPath', '/home/lab16/Final_PJT/data/mysql-connector-java-8.0.26.jar')\n",
    "\n",
    "sc = SparkContext(conf=conf)\n",
    "sqlContext = SQLContext(sc)\n",
    "spark = sqlContext.sparkSession"
   ]
  },
  {
   "cell_type": "code",
   "execution_count": 13,
   "id": "8eefc793",
   "metadata": {},
   "outputs": [],
   "source": [
    "# import os\n",
    "# import glob\n",
    "# import json\n",
    "# from pyspark import SparkContext\n",
    "# from pyspark.sql import SparkSession, SQLContext\n",
    "# from pyspark.sql.functions import *\n",
    "# from pyspark.conf import SparkConf\n",
    "\n",
    "# conf = SparkConf()\\\n",
    "#         .setAppName('spark-sql')\\\n",
    "#         .set('spark.driver.extraClassPath', '/home/lab16/Final_PJT/data/mysql-connector-java-8.0.26.jar')\n",
    "\n",
    "# sc = SparkContext(conf=conf)\n",
    "# sqlContext = SQLContext(sc)\n",
    "# spark = sqlContext.sparkSession\n",
    "\n",
    "# 실시간 교통량 json 데이터 받아오기\n",
    "path = '/home/lab16/traffic'\n",
    "file_ = os.listdir(path)\n",
    "file_json = [file for file in file_ if file.endswith('.json')]\n",
    "\n",
    "try:\n",
    "    \n",
    "    # json 데이터 처리\n",
    "    processing_list = []\n",
    "\n",
    "    for i in range(len(file_json)):\n",
    "        with open('/home/lab16/traffic/%s' % (file_json[i]), 'r') as f:\n",
    "            j = json.load(f)\n",
    "            j_list = j['VolInfo']['row']\n",
    "\n",
    "        # 하나의 지점 - 하나의 교통량 형태로 만들기\n",
    "        sum = 0\n",
    "        for i in range(len(j_list)):\n",
    "            sum += int(j_list[i]['vol'])\n",
    "            #print(j_list[i])\n",
    "        sum //= 2\n",
    "\n",
    "        d = dict()\n",
    "        d['spot_num'] = j_list[0]['spot_num']\n",
    "        d['ymd'] = j_list[0]['ymd']\n",
    "        d['hh'] = j_list[0]['hh']\n",
    "        d['vol'] = sum\n",
    "\n",
    "        if j_list[0]['spot_num'] == 'A-08':\n",
    "            d['spot_name'] = '종로(동묘앞역)'\n",
    "        elif j_list[0]['spot_num'] == 'A-07':\n",
    "            d['spot_name'] = '대학로(한국방송통신대학교)'\n",
    "        elif j_list[0]['spot_num'] == 'A-15':\n",
    "            d['spot_name'] = '종로(종로3가역)'\n",
    "        elif j_list[0]['spot_num'] == 'A-17':\n",
    "            d['spot_name'] = '세종대로(시청역2)'\n",
    "        else:\n",
    "            d['spot_name'] = '율곡로(안국역)'\n",
    "\n",
    "        processing_list.append(d)\n",
    "\n",
    "\n",
    "    # processing_list를 spark dataframe으로 변환\n",
    "    j_sdf = spark.createDataFrame(processing_list)\n",
    "    j_sdf = j_sdf.select(j_sdf.ymd, j_sdf.hh, j_sdf.spot_num, j_sdf.vol, j_sdf.spot_name)\n",
    "\n",
    "    j_sdf.createOrReplaceTempView('j_sdf')\n",
    "\n",
    "\n",
    "    # MySQL로부터 테이블 호출\n",
    "    realtime_traffic = spark.read.format('jdbc')\\\n",
    "            .option('driver', 'com.mysql.jdbc.Driver')\\\n",
    "            .option('url', 'jdbc:mysql://{}:3306/{}'.format('3.37.159.174', 'finalPJT'))\\\n",
    "            .option('user', 'mulcam')\\\n",
    "            .option('password', 'mulcam')\\\n",
    "            .option('dbtable', 'realtime_traffic')\\\n",
    "            .load()\n",
    "\n",
    "    # spark에서 SQL 쿼리를 위해 테이블 선언\n",
    "    realtime_traffic.createOrReplaceTempView('realtime_traffic')\n",
    "\n",
    "\n",
    "    # 데이터 삽입\n",
    "    spark.sql(\"INSERT INTO realtime_traffic SELECT * FROM j_sdf\")\n",
    "\n",
    "\n",
    "    # 폴더 내의 날씨 json 파일 삭제\n",
    "    [os.remove(f) for f in glob.glob(\"/home/lab16/traffic/*.json\")]\n",
    "    \n",
    "except:\n",
    "    # 폴더 내의 날씨 json 파일 삭제\n",
    "    [os.remove(f) for f in glob.glob(\"/home/lab16/traffic/*.json\")]"
   ]
  },
  {
   "cell_type": "code",
   "execution_count": null,
   "id": "magnetic-conflict",
   "metadata": {},
   "outputs": [],
   "source": []
  },
  {
   "cell_type": "code",
   "execution_count": null,
   "id": "fatal-emerald",
   "metadata": {},
   "outputs": [],
   "source": []
  },
  {
   "cell_type": "markdown",
   "id": "south-corporation",
   "metadata": {},
   "source": [
    "#### 잔여 데이터 DB에 넣기"
   ]
  },
  {
   "cell_type": "code",
   "execution_count": 1,
   "id": "reasonable-variable",
   "metadata": {},
   "outputs": [
    {
     "data": {
      "text/plain": [
       "['20210928142502traffic_A-17.json',\n",
       " '20210928121504traffic_A-08.json',\n",
       " '20210928121503traffic_A-07.json',\n",
       " '20210928142502traffic_A-15.json',\n",
       " '20210928131502traffic_A-05.json',\n",
       " '20210928131502traffic_A-17.json',\n",
       " '20210928131503traffic_A-07.json',\n",
       " '20210928142503traffic_A-07.json',\n",
       " '20210928121503traffic_A-15.json',\n",
       " '20210928142502traffic_A-05.json',\n",
       " '20210928131502traffic_A-15.json',\n",
       " '20210928152501traffic_A-17.json',\n",
       " '20210928142503traffic_A-08.json',\n",
       " '20210928121502traffic_A-17.json',\n",
       " '20210928121502traffic_A-05.json',\n",
       " '20210928152501traffic_A-05.json',\n",
       " '20210928131503traffic_A-08.json']"
      ]
     },
     "execution_count": 1,
     "metadata": {},
     "output_type": "execute_result"
    }
   ],
   "source": [
    "import os\n",
    "import glob\n",
    "import json\n",
    "from pyspark import SparkContext\n",
    "from pyspark.sql import SparkSession, SQLContext\n",
    "from pyspark.sql.functions import *\n",
    "from pyspark.conf import SparkConf\n",
    "\n",
    "conf = SparkConf()\\\n",
    "        .setAppName('spark-sql')\\\n",
    "        .set('spark.driver.extraClassPath', '/home/lab16/Final_PJT/data/mysql-connector-java-8.0.26.jar')\n",
    "\n",
    "sc = SparkContext(conf=conf)\n",
    "sqlContext = SQLContext(sc)\n",
    "spark = sqlContext.sparkSession\n",
    "\n",
    "\n",
    "path = '/home/lab16/Final_PJT/잔여traffic'\n",
    "file_ = os.listdir(path)\n",
    "file_json = [file for file in file_ if file.endswith('.json')]\n",
    "file_json"
   ]
  },
  {
   "cell_type": "code",
   "execution_count": 2,
   "id": "wireless-texture",
   "metadata": {},
   "outputs": [
    {
     "data": {
      "text/plain": [
       "17"
      ]
     },
     "execution_count": 2,
     "metadata": {},
     "output_type": "execute_result"
    }
   ],
   "source": [
    "len(file_json)"
   ]
  },
  {
   "cell_type": "code",
   "execution_count": 3,
   "id": "58ee1f13",
   "metadata": {
    "scrolled": true
   },
   "outputs": [
    {
     "data": {
      "text/plain": [
       "[{'spot_num': 'A-17',\n",
       "  'ymd': '20210928',\n",
       "  'hh': '13',\n",
       "  'vol': 1678,\n",
       "  'spot_name': '세종대로(시청역2)'},\n",
       " {'spot_num': 'A-08',\n",
       "  'ymd': '20210928',\n",
       "  'hh': '11',\n",
       "  'vol': 1323,\n",
       "  'spot_name': '종로(동묘앞역)'},\n",
       " {'spot_num': 'A-07',\n",
       "  'ymd': '20210928',\n",
       "  'hh': '11',\n",
       "  'vol': 903,\n",
       "  'spot_name': '대학로(한국방송통신대학교)'},\n",
       " {'spot_num': 'A-15',\n",
       "  'ymd': '20210928',\n",
       "  'hh': '13',\n",
       "  'vol': 1204,\n",
       "  'spot_name': '종로(종로3가역)'},\n",
       " {'spot_num': 'A-05',\n",
       "  'ymd': '20210928',\n",
       "  'hh': '12',\n",
       "  'vol': 1603,\n",
       "  'spot_name': '율곡로(안국역)'},\n",
       " {'spot_num': 'A-17',\n",
       "  'ymd': '20210928',\n",
       "  'hh': '12',\n",
       "  'vol': 1699,\n",
       "  'spot_name': '세종대로(시청역2)'},\n",
       " {'spot_num': 'A-07',\n",
       "  'ymd': '20210928',\n",
       "  'hh': '12',\n",
       "  'vol': 958,\n",
       "  'spot_name': '대학로(한국방송통신대학교)'},\n",
       " {'spot_num': 'A-07',\n",
       "  'ymd': '20210928',\n",
       "  'hh': '13',\n",
       "  'vol': 996,\n",
       "  'spot_name': '대학로(한국방송통신대학교)'},\n",
       " {'spot_num': 'A-15',\n",
       "  'ymd': '20210928',\n",
       "  'hh': '11',\n",
       "  'vol': 1174,\n",
       "  'spot_name': '종로(종로3가역)'},\n",
       " {'spot_num': 'A-05',\n",
       "  'ymd': '20210928',\n",
       "  'hh': '13',\n",
       "  'vol': 1609,\n",
       "  'spot_name': '율곡로(안국역)'},\n",
       " {'spot_num': 'A-15',\n",
       "  'ymd': '20210928',\n",
       "  'hh': '12',\n",
       "  'vol': 1225,\n",
       "  'spot_name': '종로(종로3가역)'},\n",
       " {'spot_num': 'A-17',\n",
       "  'ymd': '20210928',\n",
       "  'hh': '14',\n",
       "  'vol': 1930,\n",
       "  'spot_name': '세종대로(시청역2)'},\n",
       " {'spot_num': 'A-08',\n",
       "  'ymd': '20210928',\n",
       "  'hh': '13',\n",
       "  'vol': 1361,\n",
       "  'spot_name': '종로(동묘앞역)'},\n",
       " {'spot_num': 'A-17',\n",
       "  'ymd': '20210928',\n",
       "  'hh': '11',\n",
       "  'vol': 1911,\n",
       "  'spot_name': '세종대로(시청역2)'},\n",
       " {'spot_num': 'A-05',\n",
       "  'ymd': '20210928',\n",
       "  'hh': '11',\n",
       "  'vol': 1536,\n",
       "  'spot_name': '율곡로(안국역)'},\n",
       " {'spot_num': 'A-05',\n",
       "  'ymd': '20210928',\n",
       "  'hh': '14',\n",
       "  'vol': 1593,\n",
       "  'spot_name': '율곡로(안국역)'},\n",
       " {'spot_num': 'A-08',\n",
       "  'ymd': '20210928',\n",
       "  'hh': '12',\n",
       "  'vol': 1234,\n",
       "  'spot_name': '종로(동묘앞역)'}]"
      ]
     },
     "execution_count": 3,
     "metadata": {},
     "output_type": "execute_result"
    }
   ],
   "source": [
    "# json 데이터 처리\n",
    "processing_list = []\n",
    "\n",
    "for i in range(len(file_json)):\n",
    "    with open('/home/lab16/Final_PJT/잔여traffic/%s' % (file_json[i]), 'r') as f:\n",
    "        j = json.load(f)\n",
    "        j_list = j['VolInfo']['row']\n",
    "\n",
    "    # 하나의 지점 - 하나의 교통량 형태로 만들기\n",
    "    sum = 0\n",
    "    for i in range(len(j_list)):\n",
    "        sum += int(j_list[i]['vol'])\n",
    "        #print(j_list[i])\n",
    "    sum //= 2\n",
    "\n",
    "    d = dict()\n",
    "    d['spot_num'] = j_list[0]['spot_num']\n",
    "    d['ymd'] = j_list[0]['ymd']\n",
    "    d['hh'] = j_list[0]['hh']\n",
    "    d['vol'] = sum\n",
    "    \n",
    "    if j_list[0]['spot_num'] == 'A-08':\n",
    "        d['spot_name'] = '종로(동묘앞역)'\n",
    "    elif j_list[0]['spot_num'] == 'A-07':\n",
    "        d['spot_name'] = '대학로(한국방송통신대학교)'\n",
    "    elif j_list[0]['spot_num'] == 'A-15':\n",
    "        d['spot_name'] = '종로(종로3가역)'\n",
    "    elif j_list[0]['spot_num'] == 'A-17':\n",
    "        d['spot_name'] = '세종대로(시청역2)'\n",
    "    else:\n",
    "        d['spot_name'] = '율곡로(안국역)'\n",
    "        \n",
    "    processing_list.append(d)\n",
    "\n",
    "processing_list"
   ]
  },
  {
   "cell_type": "code",
   "execution_count": 4,
   "id": "tracked-logging",
   "metadata": {},
   "outputs": [
    {
     "data": {
      "text/plain": [
       "DataFrame[]"
      ]
     },
     "execution_count": 4,
     "metadata": {},
     "output_type": "execute_result"
    }
   ],
   "source": [
    "# processing_list를 spark dataframe으로 변환\n",
    "j_sdf = spark.createDataFrame(processing_list)\n",
    "j_sdf = j_sdf.select(j_sdf.ymd, j_sdf.hh, j_sdf.spot_num, j_sdf.vol, j_sdf.spot_name)\n",
    "\n",
    "j_sdf.createOrReplaceTempView('j_sdf')\n",
    "\n",
    "\n",
    "# MySQL로부터 테이블 호출\n",
    "realtime_traffic = spark.read.format('jdbc')\\\n",
    "        .option('driver', 'com.mysql.jdbc.Driver')\\\n",
    "        .option('url', 'jdbc:mysql://{}:3306/{}'.format('3.37.159.174', 'finalPJT'))\\\n",
    "        .option('user', 'mulcam')\\\n",
    "        .option('password', 'mulcam')\\\n",
    "        .option('dbtable', 'realtime_traffic')\\\n",
    "        .load()\n",
    "\n",
    "# spark에서 SQL 쿼리를 위해 테이블 선언\n",
    "realtime_traffic.createOrReplaceTempView('realtime_traffic')\n",
    "\n",
    "\n",
    "# 데이터 삽입\n",
    "spark.sql(\"INSERT INTO realtime_traffic SELECT * FROM j_sdf\")"
   ]
  },
  {
   "cell_type": "code",
   "execution_count": null,
   "id": "e166717f",
   "metadata": {},
   "outputs": [],
   "source": []
  },
  {
   "cell_type": "code",
   "execution_count": null,
   "id": "59db79d0",
   "metadata": {},
   "outputs": [],
   "source": []
  },
  {
   "cell_type": "markdown",
   "id": "a082deb0",
   "metadata": {},
   "source": [
    "#### 10월 데이터 가져오기"
   ]
  },
  {
   "cell_type": "code",
   "execution_count": 9,
   "id": "990370b9",
   "metadata": {},
   "outputs": [],
   "source": [
    "import requests\n",
    "from urllib3.util.retry import Retry\n",
    "from requests.adapters import HTTPAdapter\n",
    "import time\n",
    "import os\n",
    "import json\n",
    "import glob\n",
    "import pandas as pd\n",
    "from datetime import datetime, timedelta\n",
    "import xmltodict\n",
    "\n",
    "list_2=['A-05','A-17','A-15','A-07','A-08']\n",
    "\n",
    "s = requests.Session()\n",
    "\n",
    "retries = Retry(total=5,\n",
    "               backoff_factor=4, # 2, 4, 8, 16, 32\n",
    "               status_forcelist=[500, 502, 503, 504])\n",
    "\n",
    "headers= {\n",
    "    'User-Agent': 'Mozilla/5.0 (X11; Ubuntu; Linux x86_64; rv:87.0) Gecko/20100101 Firefox/87.0'\n",
    "}"
   ]
  },
  {
   "cell_type": "code",
   "execution_count": 10,
   "id": "ada76d45",
   "metadata": {},
   "outputs": [],
   "source": [
    "def crawl(url, directory, name, date):\n",
    "        \n",
    "    res = s.get(url, headers=headers)\n",
    "#    print(res.status_code)\n",
    "\n",
    "    if res.status_code == 200:\n",
    "#        print(res.content)\n",
    "        result = json.loads(json.dumps(xmltodict.parse(res.content.decode('utf-8')), ensure_ascii=False))\n",
    "        with open(directory + date.strftime(\"%Y%m%d%H%M%S\") + name + \".json\", \"w\", encoding='utf-8') as json_file:\n",
    "#            print(result)\n",
    "            json.dump(result, json_file, ensure_ascii=False)\n",
    "        return result\n",
    "    else:\n",
    "        return res.status_code"
   ]
  },
  {
   "cell_type": "code",
   "execution_count": 11,
   "id": "21cee5d0",
   "metadata": {},
   "outputs": [
    {
     "data": {
      "text/html": [
       "<div>\n",
       "<style scoped>\n",
       "    .dataframe tbody tr th:only-of-type {\n",
       "        vertical-align: middle;\n",
       "    }\n",
       "\n",
       "    .dataframe tbody tr th {\n",
       "        vertical-align: top;\n",
       "    }\n",
       "\n",
       "    .dataframe thead th {\n",
       "        text-align: right;\n",
       "    }\n",
       "</style>\n",
       "<table border=\"1\" class=\"dataframe\">\n",
       "  <thead>\n",
       "    <tr style=\"text-align: right;\">\n",
       "      <th></th>\n",
       "      <th>ymd</th>\n",
       "      <th>hh</th>\n",
       "      <th>spot_num</th>\n",
       "      <th>vol</th>\n",
       "      <th>spot_name</th>\n",
       "    </tr>\n",
       "  </thead>\n",
       "  <tbody>\n",
       "  </tbody>\n",
       "</table>\n",
       "</div>"
      ],
      "text/plain": [
       "Empty DataFrame\n",
       "Columns: [ymd, hh, spot_num, vol, spot_name]\n",
       "Index: []"
      ]
     },
     "execution_count": 11,
     "metadata": {},
     "output_type": "execute_result"
    }
   ],
   "source": [
    "# 비어있는 dataframe 생성\n",
    "total_df = pd.DataFrame(columns=['ymd','hh','spot_num','vol','spot_name'])\n",
    "total_df"
   ]
  },
  {
   "cell_type": "code",
   "execution_count": 5,
   "id": "61549a69",
   "metadata": {},
   "outputs": [],
   "source": [
    "keys = '44636d576d63686f36344e74746170'\n",
    "\n",
    "try:\n",
    "    #for time in range(10):\n",
    "        date = datetime(2021,10,8,9)   # 시작날짜, 시간\n",
    "        #print(date)\n",
    "\n",
    "        ################ 각 날짜, 시간에 해당하는 데이터 크롤링 ################\n",
    "        for x in list_2:\n",
    "\n",
    "            url = 'http://openapi.seoul.go.kr:8088/'\n",
    "            queryParams = keys+'/xml'+'/VolInfo'+'/1'+'/100/'+x+'/'+date.strftime(\"%Y%m%d\")+'/'+date.strftime(\"%H\")\n",
    "\n",
    "            url+=queryParams\n",
    "            response= requests.get(url)\n",
    "\n",
    "            crawl( url, '/home/lab16/traffic_9/', 'traffic_'+ x, date)\n",
    "\n",
    "except:\n",
    "    pass"
   ]
  },
  {
   "cell_type": "code",
   "execution_count": 6,
   "id": "c08818fa",
   "metadata": {},
   "outputs": [
    {
     "data": {
      "text/plain": [
       "['20211008000000traffic_A-05.json',\n",
       " '20211008000000traffic_A-07.json',\n",
       " '20211008000000traffic_A-08.json',\n",
       " '20211008000000traffic_A-15.json',\n",
       " '20211008000000traffic_A-17.json',\n",
       " '20211008010000traffic_A-05.json',\n",
       " '20211008010000traffic_A-07.json',\n",
       " '20211008010000traffic_A-08.json',\n",
       " '20211008010000traffic_A-15.json',\n",
       " '20211008010000traffic_A-17.json',\n",
       " '20211008020000traffic_A-05.json',\n",
       " '20211008020000traffic_A-07.json',\n",
       " '20211008020000traffic_A-08.json',\n",
       " '20211008020000traffic_A-15.json',\n",
       " '20211008020000traffic_A-17.json',\n",
       " '20211008030000traffic_A-05.json',\n",
       " '20211008030000traffic_A-07.json',\n",
       " '20211008030000traffic_A-08.json',\n",
       " '20211008030000traffic_A-15.json',\n",
       " '20211008030000traffic_A-17.json',\n",
       " '20211008040000traffic_A-05.json',\n",
       " '20211008040000traffic_A-07.json',\n",
       " '20211008040000traffic_A-08.json',\n",
       " '20211008040000traffic_A-15.json',\n",
       " '20211008040000traffic_A-17.json',\n",
       " '20211008050000traffic_A-05.json',\n",
       " '20211008050000traffic_A-07.json',\n",
       " '20211008050000traffic_A-08.json',\n",
       " '20211008050000traffic_A-15.json',\n",
       " '20211008050000traffic_A-17.json',\n",
       " '20211008060000traffic_A-05.json',\n",
       " '20211008060000traffic_A-07.json',\n",
       " '20211008060000traffic_A-08.json',\n",
       " '20211008060000traffic_A-15.json',\n",
       " '20211008060000traffic_A-17.json',\n",
       " '20211008070000traffic_A-05.json',\n",
       " '20211008070000traffic_A-07.json',\n",
       " '20211008070000traffic_A-08.json',\n",
       " '20211008070000traffic_A-15.json',\n",
       " '20211008070000traffic_A-17.json',\n",
       " '20211008080000traffic_A-05.json',\n",
       " '20211008080000traffic_A-07.json',\n",
       " '20211008080000traffic_A-08.json',\n",
       " '20211008080000traffic_A-15.json',\n",
       " '20211008080000traffic_A-17.json',\n",
       " '20211008090000traffic_A-05.json',\n",
       " '20211008090000traffic_A-07.json',\n",
       " '20211008090000traffic_A-08.json',\n",
       " '20211008090000traffic_A-15.json',\n",
       " '20211008090000traffic_A-17.json']"
      ]
     },
     "execution_count": 6,
     "metadata": {},
     "output_type": "execute_result"
    }
   ],
   "source": [
    " ################# 크롤링 이후 #################\n",
    "\n",
    "# json 데이터 받아오기\n",
    "path = '/home/lab16/traffic_9'\n",
    "file_ = os.listdir(path)\n",
    "file_json = [file for file in file_ if file.endswith('.json')]\n",
    "\n",
    "file_json = sorted(file_json)\n",
    "file_json"
   ]
  },
  {
   "cell_type": "code",
   "execution_count": 7,
   "id": "1a530d84",
   "metadata": {},
   "outputs": [],
   "source": [
    "# 상위 5개씩 데이터 처리\n",
    "idx = 0\n",
    "while idx < len(file_json):\n",
    "    try:\n",
    "        processing_list = []\n",
    "\n",
    "        for i in range(idx, idx+5):\n",
    "            with open('/home/lab16/traffic_9/%s' % (file_json[i]), 'r') as f:\n",
    "                j = json.load(f)\n",
    "                j_list = j['VolInfo']['row']\n",
    "\n",
    "            # 하나의 지점 - 하나의 교통량 형태로 만들기\n",
    "            sum = 0\n",
    "            for i in range(len(j_list)):\n",
    "                sum += int(j_list[i]['vol'])\n",
    "                #print(j_list[i])\n",
    "            sum //= 2\n",
    "\n",
    "            d = dict()\n",
    "            d['spot_num'] = j_list[0]['spot_num']\n",
    "            d['ymd'] = j_list[0]['ymd']\n",
    "            d['hh'] = j_list[0]['hh']\n",
    "            d['vol'] = sum\n",
    "\n",
    "            if j_list[0]['spot_num'] == 'A-08':\n",
    "                d['spot_name'] = '종로(동묘앞역)'\n",
    "            elif j_list[0]['spot_num'] == 'A-07':\n",
    "                d['spot_name'] = '대학로(한국방송통신대학교)'\n",
    "            elif j_list[0]['spot_num'] == 'A-15':\n",
    "                d['spot_name'] = '종로(종로3가역)'\n",
    "            elif j_list[0]['spot_num'] == 'A-17':\n",
    "                d['spot_name'] = '세종대로(시청역2)'\n",
    "            else:\n",
    "                d['spot_name'] = '율곡로(안국역)'\n",
    "\n",
    "            processing_list.append(d)\n",
    "\n",
    "        \n",
    "        # processing_list를 spark dataframe으로 변환\n",
    "        j_sdf = spark.createDataFrame(processing_list)\n",
    "        j_sdf = j_sdf.select(j_sdf.ymd, j_sdf.hh, j_sdf.spot_num, j_sdf.vol, j_sdf.spot_name)\n",
    "\n",
    "        j_sdf.createOrReplaceTempView('j_sdf')\n",
    "\n",
    "        # MySQL로부터 테이블 호출\n",
    "        realtime_traffic = spark.read.format('jdbc')\\\n",
    "                .option('driver', 'com.mysql.jdbc.Driver')\\\n",
    "                .option('url', 'jdbc:mysql://{}:3306/{}'.format('3.37.159.174', 'finalPJT'))\\\n",
    "                .option('user', 'mulcam')\\\n",
    "                .option('password', 'mulcam')\\\n",
    "                .option('dbtable', 'realtime_traffic')\\\n",
    "                .load()\n",
    "\n",
    "        # spark에서 SQL 쿼리를 위해 테이블 선언\n",
    "        realtime_traffic.createOrReplaceTempView('realtime_traffic')\n",
    "\n",
    "\n",
    "        # 데이터 삽입\n",
    "        spark.sql(\"INSERT INTO realtime_traffic SELECT * FROM j_sdf\")\n",
    "\n",
    "        idx += 5\n",
    "\n",
    "    except:\n",
    "        idx += 5"
   ]
  },
  {
   "cell_type": "code",
   "execution_count": 8,
   "id": "29ab4368",
   "metadata": {},
   "outputs": [
    {
     "data": {
      "text/plain": [
       "[None,\n",
       " None,\n",
       " None,\n",
       " None,\n",
       " None,\n",
       " None,\n",
       " None,\n",
       " None,\n",
       " None,\n",
       " None,\n",
       " None,\n",
       " None,\n",
       " None,\n",
       " None,\n",
       " None,\n",
       " None,\n",
       " None,\n",
       " None,\n",
       " None,\n",
       " None,\n",
       " None,\n",
       " None,\n",
       " None,\n",
       " None,\n",
       " None,\n",
       " None,\n",
       " None,\n",
       " None,\n",
       " None,\n",
       " None,\n",
       " None,\n",
       " None,\n",
       " None,\n",
       " None,\n",
       " None,\n",
       " None,\n",
       " None,\n",
       " None,\n",
       " None,\n",
       " None,\n",
       " None,\n",
       " None,\n",
       " None,\n",
       " None,\n",
       " None,\n",
       " None,\n",
       " None,\n",
       " None,\n",
       " None,\n",
       " None]"
      ]
     },
     "execution_count": 8,
     "metadata": {},
     "output_type": "execute_result"
    }
   ],
   "source": [
    "[os.remove(f) for f in glob.glob(\"/home/lab16/traffic_9/*.json\")]"
   ]
  },
  {
   "cell_type": "code",
   "execution_count": null,
   "id": "096e5cd8",
   "metadata": {},
   "outputs": [],
   "source": []
  }
 ],
 "metadata": {
  "kernelspec": {
   "display_name": "Python 3",
   "language": "python",
   "name": "python3"
  },
  "language_info": {
   "codemirror_mode": {
    "name": "ipython",
    "version": 3
   },
   "file_extension": ".py",
   "mimetype": "text/x-python",
   "name": "python",
   "nbconvert_exporter": "python",
   "pygments_lexer": "ipython3",
   "version": "3.6.13"
  }
 },
 "nbformat": 4,
 "nbformat_minor": 5
}
