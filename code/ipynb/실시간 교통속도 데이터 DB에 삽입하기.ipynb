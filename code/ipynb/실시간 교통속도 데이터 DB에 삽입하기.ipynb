{
 "cells": [
  {
   "cell_type": "code",
   "execution_count": 1,
   "id": "da573a5d",
   "metadata": {},
   "outputs": [],
   "source": [
    "import os\n",
    "import glob\n",
    "import json\n",
    "from pyspark import SparkContext\n",
    "from pyspark.sql import SparkSession, SQLContext\n",
    "from pyspark.sql.functions import *\n",
    "from pyspark.conf import SparkConf\n",
    "\n",
    "conf = SparkConf()\\\n",
    "        .setAppName('spark-sql')\\\n",
    "        .set('spark.driver.extraClassPath', '/home/lab16/Final_PJT/data/mysql-connector-java-8.0.26.jar')\n",
    "\n",
    "sc = SparkContext(conf=conf)\n",
    "sqlContext = SQLContext(sc)\n",
    "spark = sqlContext.sparkSession"
   ]
  },
  {
   "cell_type": "code",
   "execution_count": 83,
   "id": "759ad17d",
   "metadata": {},
   "outputs": [
    {
     "data": {
      "text/plain": [
       "['20211005085801vol_1000008300.json',\n",
       " '20211005085802vol_1000009000.json',\n",
       " '20211005085803vol_1000001100.json',\n",
       " '20211005085801vol_1000002200.json',\n",
       " '20211005085802vol_1000011600.json']"
      ]
     },
     "execution_count": 83,
     "metadata": {},
     "output_type": "execute_result"
    }
   ],
   "source": [
    "# 실시간 교통량 json 데이터 받아오기\n",
    "path = '/home/lab16/traffic_speed'\n",
    "file_ = os.listdir(path)\n",
    "file_json = [file for file in file_ if file.endswith('.json')]\n",
    "\n",
    "file_json"
   ]
  },
  {
   "cell_type": "code",
   "execution_count": 84,
   "id": "0469a960",
   "metadata": {},
   "outputs": [],
   "source": [
    "accident_list = ['안국역사거리', '광하문우체국사거리','종로3가역사거리', '이화사거리', '동묘앞역사거리']\n",
    "traffic_list = ['율곡로(안국역)', '세종대로(시청역2)', '종로(종로3가역)', '대학로(한국방송통신대학교)', '종로(동묘앞역)']\n",
    "speed_list = ['1000011600', '1000008300', '1000001100', '1000009000', '1000002200']\n",
    "\n",
    "data = {}\n",
    "data2 = {}\n",
    "# 링크아이디 통해 교통량측정지점 위치 확인\n",
    "for i in range(len(speed_list)):\n",
    "    data[speed_list[i]] = traffic_list[i]\n",
    "    \n",
    "# 링크아이디 통해 사고다발지점 위치 확인\n",
    "for i in range(len(speed_list)):\n",
    "    data2[speed_list[i]] = accident_list[i]"
   ]
  },
  {
   "cell_type": "code",
   "execution_count": 85,
   "id": "5ae0377d",
   "metadata": {},
   "outputs": [],
   "source": [
    "processing_list = []\n",
    "\n",
    "for i in range(len(file_json)):\n",
    "    with open('/home/lab16/traffic_speed/%s' % (file_json[i]), 'r') as f:\n",
    "        j = json.load(f)\n",
    "        j_list = j['TrafficInfo']['row']\n",
    "        #print(j_list)\n",
    "        \n",
    "        # 파일명으로부터 데이터 추출\n",
    "        year = file_json[i][:4]\n",
    "        month = file_json[i][4:6]\n",
    "        day = file_json[i][6:8]\n",
    "        hour = file_json[i][8:10]\n",
    "        \n",
    "        d = dict()\n",
    "        \n",
    "        d['year'] = year\n",
    "        d['month'] = month\n",
    "        d['day'] = day\n",
    "        d['hour'] = hour\n",
    "        d['link_id'] = j_list['link_id']\n",
    "        d['spot_name'] = data[j_list['link_id']]\n",
    "        d['spot_name2'] = data2[j_list['link_id']]\n",
    "        d['speed'] = j_list['prcs_spd']\n",
    "        \n",
    "        processing_list.append(d)"
   ]
  },
  {
   "cell_type": "code",
   "execution_count": 86,
   "id": "80eabd2e",
   "metadata": {
    "scrolled": true
   },
   "outputs": [
    {
     "data": {
      "text/plain": [
       "[{'year': '2021',\n",
       "  'month': '10',\n",
       "  'day': '05',\n",
       "  'hour': '08',\n",
       "  'link_id': '1000008300',\n",
       "  'spot_name': '세종대로(시청역2)',\n",
       "  'spot_name2': '광하문우체국사거리',\n",
       "  'speed': '32.3'},\n",
       " {'year': '2021',\n",
       "  'month': '10',\n",
       "  'day': '05',\n",
       "  'hour': '08',\n",
       "  'link_id': '1000009000',\n",
       "  'spot_name': '대학로(한국방송통신대학교)',\n",
       "  'spot_name2': '이화사거리',\n",
       "  'speed': '14.1'},\n",
       " {'year': '2021',\n",
       "  'month': '10',\n",
       "  'day': '05',\n",
       "  'hour': '08',\n",
       "  'link_id': '1000001100',\n",
       "  'spot_name': '종로(종로3가역)',\n",
       "  'spot_name2': '종로3가역사거리',\n",
       "  'speed': '15.1'},\n",
       " {'year': '2021',\n",
       "  'month': '10',\n",
       "  'day': '05',\n",
       "  'hour': '08',\n",
       "  'link_id': '1000002200',\n",
       "  'spot_name': '종로(동묘앞역)',\n",
       "  'spot_name2': '동묘앞역사거리',\n",
       "  'speed': '21.5'},\n",
       " {'year': '2021',\n",
       "  'month': '10',\n",
       "  'day': '05',\n",
       "  'hour': '08',\n",
       "  'link_id': '1000011600',\n",
       "  'spot_name': '율곡로(안국역)',\n",
       "  'spot_name2': '안국역사거리',\n",
       "  'speed': '12.7'}]"
      ]
     },
     "execution_count": 86,
     "metadata": {},
     "output_type": "execute_result"
    }
   ],
   "source": [
    "processing_list"
   ]
  },
  {
   "cell_type": "code",
   "execution_count": 87,
   "id": "215482dd",
   "metadata": {},
   "outputs": [
    {
     "name": "stdout",
     "output_type": "stream",
     "text": [
      "+----+-----+---+----+----------+--------------------------+------------------+-----+\n",
      "|year|month|day|hour|   link_id|                 spot_name|        spot_name2|speed|\n",
      "+----+-----+---+----+----------+--------------------------+------------------+-----+\n",
      "|2021|   10| 05|  08|1000008300|         세종대로(시청역2)|광하문우체국사거리| 32.3|\n",
      "|2021|   10| 05|  08|1000009000|대학로(한국방송통신대학교)|        이화사거리| 14.1|\n",
      "|2021|   10| 05|  08|1000001100|           종로(종로3가역)|   종로3가역사거리| 15.1|\n",
      "|2021|   10| 05|  08|1000002200|            종로(동묘앞역)|    동묘앞역사거리| 21.5|\n",
      "|2021|   10| 05|  08|1000011600|            율곡로(안국역)|      안국역사거리| 12.7|\n",
      "+----+-----+---+----+----------+--------------------------+------------------+-----+\n",
      "\n"
     ]
    }
   ],
   "source": [
    "# processing_list를 spark dataframe으로 변환\n",
    "j_sdf = spark.createDataFrame(processing_list)\n",
    "j_sdf = j_sdf.select(j_sdf.year, j_sdf.month, j_sdf.day, j_sdf.hour, j_sdf.link_id, j_sdf.spot_name, j_sdf.spot_name2, j_sdf.speed)\n",
    "\n",
    "j_sdf.createOrReplaceTempView('j_sdf')\n",
    "j_sdf.show()"
   ]
  },
  {
   "cell_type": "code",
   "execution_count": 88,
   "id": "2b25ddb5",
   "metadata": {},
   "outputs": [
    {
     "name": "stdout",
     "output_type": "stream",
     "text": [
      "+----+-----+---+----+----------+--------------------------+------------------+-----+\n",
      "|year|month|day|hour|   link_id|                 spot_name|        spot_name2|speed|\n",
      "+----+-----+---+----+----------+--------------------------+------------------+-----+\n",
      "|2021|   10| 04|  21|1000001100|           종로(종로3가역)|   종로3가역사거리| 23.4|\n",
      "|2021|   10| 04|  21|1000002200|            종로(동묘앞역)|    동묘앞역사거리| 22.2|\n",
      "|2021|   10| 04|  21|1000011600|            율곡로(안국역)|      안국역사거리| 22.7|\n",
      "|2021|   10| 04|  21|1000008300|         세종대로(시청역2)|광하문우체국사거리|   34|\n",
      "|2021|   10| 04|  21|1000009000|대학로(한국방송통신대학교)|        이화사거리| 16.8|\n",
      "|2021|   10| 05|  01|1000001100|           종로(종로3가역)|   종로3가역사거리| 22.6|\n",
      "|2021|   10| 04|  22|1000002200|            종로(동묘앞역)|    동묘앞역사거리| 24.2|\n",
      "|2021|   10| 05|  05|1000008300|         세종대로(시청역2)|광하문우체국사거리|   18|\n",
      "|2021|   10| 05|  06|1000001100|           종로(종로3가역)|   종로3가역사거리| 22.3|\n",
      "|2021|   10| 05|  06|1000009000|대학로(한국방송통신대학교)|        이화사거리| 16.5|\n",
      "|2021|   10| 05|  08|1000011600|            율곡로(안국역)|      안국역사거리| 12.7|\n",
      "|2021|   10| 04|  21|1000011600|            율곡로(안국역)|      안국역사거리| 22.7|\n",
      "|2021|   10| 05|  02|1000002200|            종로(동묘앞역)|    동묘앞역사거리| 19.7|\n",
      "|2021|   10| 05|  03|1000009000|대학로(한국방송통신대학교)|        이화사거리| 23.5|\n",
      "|2021|   10| 04|  23|1000009000|대학로(한국방송통신대학교)|        이화사거리| 24.5|\n",
      "|2021|   10| 05|  09|1000009000|대학로(한국방송통신대학교)|        이화사거리| 15.2|\n",
      "|2021|   10| 05|  04|1000001100|           종로(종로3가역)|   종로3가역사거리|   15|\n",
      "|2021|   10| 05|  05|1000001100|           종로(종로3가역)|   종로3가역사거리| 24.9|\n",
      "|2021|   10| 05|  01|1000009000|대학로(한국방송통신대학교)|        이화사거리|   17|\n",
      "|2021|   10| 05|  05|1000002200|            종로(동묘앞역)|    동묘앞역사거리| 25.5|\n",
      "+----+-----+---+----+----------+--------------------------+------------------+-----+\n",
      "only showing top 20 rows\n",
      "\n"
     ]
    }
   ],
   "source": [
    "# MySQL로부터 테이블 호출\n",
    "realtime_speed = spark.read.format('jdbc')\\\n",
    "        .option('driver', 'com.mysql.jdbc.Driver')\\\n",
    "        .option('url', 'jdbc:mysql://{}:3306/{}'.format('3.37.159.174', 'finalPJT'))\\\n",
    "        .option('user', 'mulcam')\\\n",
    "        .option('password', 'mulcam')\\\n",
    "        .option('dbtable', 'realtime_speed')\\\n",
    "        .load()\n",
    "\n",
    "# spark에서 SQL 쿼리를 위해 테이블 선언\n",
    "realtime_speed.createOrReplaceTempView('realtime_speed')\n",
    "realtime_speed.show()"
   ]
  },
  {
   "cell_type": "code",
   "execution_count": 89,
   "id": "c9c2be52",
   "metadata": {},
   "outputs": [
    {
     "data": {
      "text/plain": [
       "DataFrame[]"
      ]
     },
     "execution_count": 89,
     "metadata": {},
     "output_type": "execute_result"
    }
   ],
   "source": [
    "# 데이터 삽입\n",
    "spark.sql(\"INSERT INTO realtime_speed SELECT * FROM j_sdf\")"
   ]
  },
  {
   "cell_type": "code",
   "execution_count": 90,
   "id": "82463241",
   "metadata": {},
   "outputs": [
    {
     "name": "stdout",
     "output_type": "stream",
     "text": [
      "+----+-----+---+----+----------+--------------------------+------------------+-----+\n",
      "|year|month|day|hour|   link_id|                 spot_name|        spot_name2|speed|\n",
      "+----+-----+---+----+----------+--------------------------+------------------+-----+\n",
      "|2021|   10| 04|  21|1000001100|           종로(종로3가역)|   종로3가역사거리| 23.4|\n",
      "|2021|   10| 04|  21|1000002200|            종로(동묘앞역)|    동묘앞역사거리| 22.2|\n",
      "|2021|   10| 04|  21|1000011600|            율곡로(안국역)|      안국역사거리| 22.7|\n",
      "|2021|   10| 04|  21|1000008300|         세종대로(시청역2)|광하문우체국사거리|   34|\n",
      "|2021|   10| 04|  21|1000009000|대학로(한국방송통신대학교)|        이화사거리| 16.8|\n",
      "|2021|   10| 05|  01|1000001100|           종로(종로3가역)|   종로3가역사거리| 22.6|\n",
      "|2021|   10| 04|  22|1000002200|            종로(동묘앞역)|    동묘앞역사거리| 24.2|\n",
      "|2021|   10| 05|  05|1000008300|         세종대로(시청역2)|광하문우체국사거리|   18|\n",
      "|2021|   10| 05|  06|1000001100|           종로(종로3가역)|   종로3가역사거리| 22.3|\n",
      "|2021|   10| 05|  06|1000009000|대학로(한국방송통신대학교)|        이화사거리| 16.5|\n",
      "|2021|   10| 05|  08|1000011600|            율곡로(안국역)|      안국역사거리| 12.7|\n",
      "|2021|   10| 04|  21|1000011600|            율곡로(안국역)|      안국역사거리| 22.7|\n",
      "|2021|   10| 05|  02|1000002200|            종로(동묘앞역)|    동묘앞역사거리| 19.7|\n",
      "|2021|   10| 05|  03|1000009000|대학로(한국방송통신대학교)|        이화사거리| 23.5|\n",
      "|2021|   10| 04|  23|1000009000|대학로(한국방송통신대학교)|        이화사거리| 24.5|\n",
      "|2021|   10| 05|  09|1000009000|대학로(한국방송통신대학교)|        이화사거리| 15.2|\n",
      "|2021|   10| 05|  04|1000001100|           종로(종로3가역)|   종로3가역사거리|   15|\n",
      "|2021|   10| 05|  05|1000001100|           종로(종로3가역)|   종로3가역사거리| 24.9|\n",
      "|2021|   10| 05|  01|1000009000|대학로(한국방송통신대학교)|        이화사거리|   17|\n",
      "|2021|   10| 05|  05|1000002200|            종로(동묘앞역)|    동묘앞역사거리| 25.5|\n",
      "+----+-----+---+----+----------+--------------------------+------------------+-----+\n",
      "only showing top 20 rows\n",
      "\n"
     ]
    }
   ],
   "source": [
    "realtime_speed.show()"
   ]
  },
  {
   "cell_type": "code",
   "execution_count": 91,
   "id": "2673d51c",
   "metadata": {},
   "outputs": [
    {
     "data": {
      "text/plain": [
       "[None, None, None, None, None]"
      ]
     },
     "execution_count": 91,
     "metadata": {},
     "output_type": "execute_result"
    }
   ],
   "source": [
    "# 폴더 내의 날씨 json 파일 삭제\n",
    "[os.remove(f) for f in glob.glob(\"/home/lab16/traffic_speed/*.json\")]"
   ]
  },
  {
   "cell_type": "code",
   "execution_count": null,
   "id": "ac07f998",
   "metadata": {},
   "outputs": [],
   "source": []
  },
  {
   "cell_type": "code",
   "execution_count": null,
   "id": "7425734d",
   "metadata": {},
   "outputs": [],
   "source": []
  },
  {
   "cell_type": "code",
   "execution_count": null,
   "id": "639b6556",
   "metadata": {},
   "outputs": [],
   "source": [
    "import os\n",
    "import glob\n",
    "import json\n",
    "from pyspark import SparkContext\n",
    "from pyspark.sql import SparkSession, SQLContext\n",
    "from pyspark.sql.functions import *\n",
    "from pyspark.conf import SparkConf\n",
    "\n",
    "conf = SparkConf()\\\n",
    "        .setAppName('spark-sql')\\\n",
    "        .set('spark.driver.extraClassPath', '/home/lab16/Final_PJT/data/mysql-connector-java-8.0.26.jar')\n",
    "\n",
    "sc = SparkContext(conf=conf)\n",
    "sqlContext = SQLContext(sc)\n",
    "spark = sqlContext.sparkSession\n",
    "\n",
    "\n",
    "# 실시간 교통량 json 데이터 받아오기\n",
    "path = '/home/lab16/traffic_speed'\n",
    "file_ = os.listdir(path)\n",
    "file_json = [file for file in file_ if file.endswith('.json')]\n",
    "\n",
    "\n",
    "# 교통량측정지점, 사고다발지점 컬럼 추가\n",
    "accident_list = ['안국역사거리', '광하문우체국사거리','종로3가역사거리', '이화사거리', '동묘앞역사거리']\n",
    "traffic_list = ['율곡로(안국역)', '세종대로(시청역2)', '종로(종로3가역)', '대학로(한국방송통신대학교)', '종로(동묘앞역)']\n",
    "speed_list = ['1000011600', '1000008300', '1000001100', '1000009000', '1000002200']\n",
    "\n",
    "data = {}\n",
    "data2 = {}\n",
    "# 링크아이디 통해 교통량측정지점 위치 확인\n",
    "for i in range(len(speed_list)):\n",
    "    data[speed_list[i]] = traffic_list[i]\n",
    "    \n",
    "# 링크아이디 통해 사고다발지점 위치 확인\n",
    "for i in range(len(speed_list)):\n",
    "    data2[speed_list[i]] = accident_list[i]\n",
    "    \n",
    "    \n",
    "# json 데이터 처리    \n",
    "processing_list = []\n",
    "\n",
    "for i in range(len(file_json)):\n",
    "    with open('/home/lab16/traffic_speed/%s' % (file_json[i]), 'r') as f:\n",
    "        j = json.load(f)\n",
    "        j_list = j['TrafficInfo']['row']\n",
    "        #print(j_list)\n",
    "        \n",
    "        # 파일명으로부터 데이터 추출\n",
    "        year = file_json[i][:4]\n",
    "        month = file_json[i][4:6]\n",
    "        day = file_json[i][6:8]\n",
    "        hour = file_json[i][8:10]\n",
    "        \n",
    "        d = dict()\n",
    "        \n",
    "        d['year'] = year\n",
    "        d['month'] = month\n",
    "        d['day'] = day\n",
    "        d['hour'] = hour\n",
    "        d['link_id'] = j_list['link_id']\n",
    "        d['spot_name'] = data[j_list['link_id']]\n",
    "        d['spot_name2'] = data2[j_list['link_id']]\n",
    "        d['speed'] = j_list['prcs_spd']\n",
    "        \n",
    "        processing_list.append(d)\n",
    "        \n",
    "        \n",
    "# processing_list를 spark dataframe으로 변환\n",
    "j_sdf = spark.createDataFrame(processing_list)\n",
    "j_sdf = j_sdf.select(j_sdf.year, j_sdf.month, j_sdf.day, j_sdf.hour, j_sdf.link_id, j_sdf.spot_name, j_sdf.spot_name2, j_sdf.speed)\n",
    "\n",
    "j_sdf.createOrReplaceTempView('j_sdf')\n",
    "\n",
    "\n",
    "# MySQL로부터 테이블 호출\n",
    "realtime_speed = spark.read.format('jdbc')\\\n",
    "        .option('driver', 'com.mysql.jdbc.Driver')\\\n",
    "        .option('url', 'jdbc:mysql://{}:3306/{}'.format('3.37.159.174', 'finalPJT'))\\\n",
    "        .option('user', 'mulcam')\\\n",
    "        .option('password', 'mulcam')\\\n",
    "        .option('dbtable', 'realtime_speed')\\\n",
    "        .load()\n",
    "\n",
    "# spark에서 SQL 쿼리를 위해 테이블 선언\n",
    "realtime_speed.createOrReplaceTempView('realtime_speed')\n",
    "\n",
    "\n",
    "# 데이터 삽입\n",
    "spark.sql(\"INSERT INTO realtime_speed SELECT * FROM j_sdf\")\n",
    "\n",
    "\n",
    "# 폴더 내의 날씨 json 파일 삭제\n",
    "[os.remove(f) for f in glob.glob(\"/home/lab16/traffic_speed/*.json\")]"
   ]
  }
 ],
 "metadata": {
  "kernelspec": {
   "display_name": "Python 3",
   "language": "python",
   "name": "python3"
  },
  "language_info": {
   "codemirror_mode": {
    "name": "ipython",
    "version": 3
   },
   "file_extension": ".py",
   "mimetype": "text/x-python",
   "name": "python",
   "nbconvert_exporter": "python",
   "pygments_lexer": "ipython3",
   "version": "3.6.13"
  }
 },
 "nbformat": 4,
 "nbformat_minor": 5
}
