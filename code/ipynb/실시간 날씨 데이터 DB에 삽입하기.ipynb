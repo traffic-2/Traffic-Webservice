{
 "cells": [
  {
   "cell_type": "code",
   "execution_count": 1,
   "id": "ed3a78bb",
   "metadata": {},
   "outputs": [],
   "source": [
    "import os\n",
    "import glob\n",
    "import json\n",
    "from pyspark import SparkContext\n",
    "from pyspark.sql import SparkSession, SQLContext\n",
    "from pyspark.sql.functions import *\n",
    "from pyspark.sql.window import *\n",
    "from pyspark.conf import SparkConf\n",
    "\n",
    "conf = SparkConf()\\\n",
    "        .setAppName('spark-sql')\\\n",
    "        .set('spark.driver.extraClassPath', '/home/lab16/Final_PJT/data/mysql-connector-java-8.0.26.jar')\n",
    "\n",
    "sc = SparkContext(conf=conf)"
   ]
  },
  {
   "cell_type": "code",
   "execution_count": 2,
   "id": "edbc9188",
   "metadata": {},
   "outputs": [],
   "source": [
    "sqlContext = SQLContext(sc)\n",
    "spark = sqlContext.sparkSession"
   ]
  },
  {
   "cell_type": "code",
   "execution_count": 3,
   "id": "4f99f53a",
   "metadata": {
    "scrolled": true
   },
   "outputs": [],
   "source": [
    "# 실시간 날씨 json 데이터 받아오기\n",
    "path = '/home/lab16/weather'\n",
    "file_ = os.listdir(path)\n",
    "file_json = [file for file in file_ if file.endswith('.json')]\n",
    "\n",
    "with open('/home/lab16/weather/%s' % (file_json[0]), 'r') as f:\n",
    "    j = json.load(f)\n",
    "j_list = j['response']['body']['items']['item']"
   ]
  },
  {
   "cell_type": "code",
   "execution_count": 4,
   "id": "6dc606fe",
   "metadata": {
    "scrolled": true
   },
   "outputs": [],
   "source": [
    "#j_list"
   ]
  },
  {
   "cell_type": "code",
   "execution_count": 5,
   "id": "9ffd83cd",
   "metadata": {},
   "outputs": [
    {
     "name": "stdout",
     "output_type": "stream",
     "text": [
      "+--------+--------+--------+---+---+---------+\n",
      "|baseDate|baseTime|category| nx| ny|obsrValue|\n",
      "+--------+--------+--------+---+---+---------+\n",
      "|20210928|    0800|     PTY| 60|127|        0|\n",
      "|20210928|    0800|     REH| 60|127|       76|\n",
      "|20210928|    0800|     RN1| 60|127|        0|\n",
      "|20210928|    0800|     T1H| 60|127|     20.8|\n",
      "|20210928|    0800|     UUU| 60|127|     -1.9|\n",
      "|20210928|    0800|     VEC| 60|127|       57|\n",
      "|20210928|    0800|     VVV| 60|127|     -1.2|\n",
      "|20210928|    0800|     WSD| 60|127|      2.4|\n",
      "+--------+--------+--------+---+---+---------+\n",
      "\n"
     ]
    }
   ],
   "source": [
    "# j_list를 spark dataframe으로 변환\n",
    "j_sdf = spark.createDataFrame(j_list)\n",
    "j_sdf.createOrReplaceTempView('j_sdf')\n",
    "j_sdf.show()"
   ]
  },
  {
   "cell_type": "code",
   "execution_count": 6,
   "id": "a791b9df",
   "metadata": {},
   "outputs": [],
   "source": [
    "#j_sdf.printSchema()"
   ]
  },
  {
   "cell_type": "code",
   "execution_count": 7,
   "id": "777e1410",
   "metadata": {},
   "outputs": [
    {
     "name": "stdout",
     "output_type": "stream",
     "text": [
      "+--------+--------+--------+---+---+---------+\n",
      "|baseDate|baseTime|category| nx| ny|obsrValue|\n",
      "+--------+--------+--------+---+---+---------+\n",
      "+--------+--------+--------+---+---+---------+\n",
      "\n"
     ]
    }
   ],
   "source": [
    "# MySQL로부터 테이블 호출\n",
    "realtime_weather = spark.read.format('jdbc')\\\n",
    "        .option('driver', 'com.mysql.jdbc.Driver')\\\n",
    "        .option('url', 'jdbc:mysql://{}:3306/{}'.format('3.37.159.174', 'finalPJT'))\\\n",
    "        .option('user', 'mulcam')\\\n",
    "        .option('password', 'mulcam')\\\n",
    "        .option('dbtable', 'realtime_weather')\\\n",
    "        .load()\n",
    "\n",
    "# spark에서 SQL 쿼리를 위해 테이블 선언\n",
    "realtime_weather.createOrReplaceTempView('realtime_weather')\n",
    "\n",
    "realtime_weather.show()"
   ]
  },
  {
   "cell_type": "code",
   "execution_count": 8,
   "id": "55842e31",
   "metadata": {},
   "outputs": [
    {
     "data": {
      "text/plain": [
       "DataFrame[]"
      ]
     },
     "execution_count": 8,
     "metadata": {},
     "output_type": "execute_result"
    }
   ],
   "source": [
    "spark.sql(\"INSERT INTO realtime_weather SELECT * FROM j_sdf\")"
   ]
  },
  {
   "cell_type": "code",
   "execution_count": 9,
   "id": "cec8f9e0",
   "metadata": {},
   "outputs": [
    {
     "name": "stdout",
     "output_type": "stream",
     "text": [
      "+--------+--------+--------+---+---+---------+\n",
      "|baseDate|baseTime|category| nx| ny|obsrValue|\n",
      "+--------+--------+--------+---+---+---------+\n",
      "|20210928|    0800|     VVV| 60|127|     -1.2|\n",
      "|20210928|    0800|     WSD| 60|127|      2.4|\n",
      "|20210928|    0800|     UUU| 60|127|     -1.9|\n",
      "|20210928|    0800|     VEC| 60|127|       57|\n",
      "|20210928|    0800|     PTY| 60|127|        0|\n",
      "|20210928|    0800|     REH| 60|127|       76|\n",
      "|20210928|    0800|     RN1| 60|127|        0|\n",
      "|20210928|    0800|     T1H| 60|127|     20.8|\n",
      "+--------+--------+--------+---+---+---------+\n",
      "\n"
     ]
    }
   ],
   "source": [
    "realtime_weather.show()"
   ]
  },
  {
   "cell_type": "code",
   "execution_count": 10,
   "id": "e5ef7c00",
   "metadata": {},
   "outputs": [
    {
     "data": {
      "text/plain": [
       "[None]"
      ]
     },
     "execution_count": 10,
     "metadata": {},
     "output_type": "execute_result"
    }
   ],
   "source": [
    "# 폴더 내의 날씨 json 파일 삭제\n",
    "[os.remove(f) for f in glob.glob(\"/home/lab16/weather/*.json\")]"
   ]
  },
  {
   "cell_type": "code",
   "execution_count": null,
   "id": "dde3fafc",
   "metadata": {},
   "outputs": [],
   "source": []
  },
  {
   "cell_type": "code",
   "execution_count": null,
   "id": "56dee252",
   "metadata": {},
   "outputs": [],
   "source": []
  },
  {
   "cell_type": "markdown",
   "id": "39a517cc",
   "metadata": {},
   "source": [
    "### .py 파일로 만들기"
   ]
  },
  {
   "cell_type": "code",
   "execution_count": 1,
   "id": "ae67472e",
   "metadata": {},
   "outputs": [
    {
     "data": {
      "text/plain": [
       "[None]"
      ]
     },
     "execution_count": 1,
     "metadata": {},
     "output_type": "execute_result"
    }
   ],
   "source": [
    "import os\n",
    "import glob\n",
    "import json\n",
    "from pyspark import SparkContext\n",
    "from pyspark.sql import SparkSession, SQLContext\n",
    "from pyspark.sql.functions import *\n",
    "from pyspark.conf import SparkConf\n",
    "\n",
    "conf = SparkConf()\\\n",
    "        .setAppName('spark-sql')\\\n",
    "        .set('spark.driver.extraClassPath', '/home/lab16/Final_PJT/data/mysql-connector-java-8.0.26.jar')\n",
    "\n",
    "sc = SparkContext(conf=conf)\n",
    "sqlContext = SQLContext(sc)\n",
    "spark = sqlContext.sparkSession\n",
    "\n",
    "# 실시간 날씨 json 데이터 받아오기\n",
    "path = '/home/lab16/weather'\n",
    "file_ = os.listdir(path)\n",
    "file_json = [file for file in file_ if file.endswith('.json')]\n",
    "\n",
    "with open('/home/lab16/weather/%s' % (file_json[0]), 'r') as f:\n",
    "    j = json.load(f)\n",
    "j_list = j['response']['body']['items']['item']\n",
    "\n",
    "# j_list를 spark dataframe으로 변환\n",
    "j_sdf = spark.createDataFrame(j_list)\n",
    "j_sdf.createOrReplaceTempView('j_sdf')\n",
    "\n",
    "# MySQL로부터 테이블 호출\n",
    "realtime_weather = spark.read.format('jdbc')\\\n",
    "        .option('driver', 'com.mysql.jdbc.Driver')\\\n",
    "        .option('url', 'jdbc:mysql://{}:3306/{}'.format('3.37.159.174', 'finalPJT'))\\\n",
    "        .option('user', 'mulcam')\\\n",
    "        .option('password', 'mulcam')\\\n",
    "        .option('dbtable', 'realtime_weather')\\\n",
    "        .load()\n",
    "\n",
    "# spark에서 SQL 쿼리를 위해 테이블 선언\n",
    "realtime_weather.createOrReplaceTempView('realtime_weather')\n",
    "\n",
    "# 데이터 삽입\n",
    "spark.sql(\"INSERT INTO realtime_weather SELECT * FROM j_sdf\")\n",
    "\n",
    "# 폴더 내의 날씨 json 파일 삭제\n",
    "[os.remove(f) for f in glob.glob(\"/home/lab16/weather/*.json\")]"
   ]
  },
  {
   "cell_type": "code",
   "execution_count": null,
   "id": "a6ce8910",
   "metadata": {},
   "outputs": [],
   "source": []
  }
 ],
 "metadata": {
  "kernelspec": {
   "display_name": "Python 3",
   "language": "python",
   "name": "python3"
  },
  "language_info": {
   "codemirror_mode": {
    "name": "ipython",
    "version": 3
   },
   "file_extension": ".py",
   "mimetype": "text/x-python",
   "name": "python",
   "nbconvert_exporter": "python",
   "pygments_lexer": "ipython3",
   "version": "3.6.13"
  }
 },
 "nbformat": 4,
 "nbformat_minor": 5
}
